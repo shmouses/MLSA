{
 "cells": [
  {
   "cell_type": "markdown",
   "metadata": {},
   "source": [
    "## Comparison between the iterative Image Space Restoration Algorithm (ISRA) and the Richardson-Lucy Algorithm (RLA) \n",
    "Using the generated Voigt functions\n",
    "\n"
   ]
  },
  {
   "cell_type": "code",
   "execution_count": 1,
   "metadata": {},
   "outputs": [
    {
     "name": "stderr",
     "output_type": "stream",
     "text": [
      "WARNING:hyperspy.api:The ipywidgets GUI elements are not available, probably because the hyperspy_gui_ipywidgets package is not installed.\n",
      "WARNING:hyperspy.api:The traitsui GUI elements are not available, probably because the hyperspy_gui_traitsui package is not installed.\n"
     ]
    }
   ],
   "source": [
    "#required libraries\n",
    "%matplotlib qt\n",
    "import numpy as np\n",
    "import hyperspy.api as hs\n",
    "from ncempy.io import dm\n",
    "import matplotlib.pyplot as plt\n",
    "from scipy.signal import peak_widths, find_peaks\n",
    "import math"
   ]
  },
  {
   "cell_type": "markdown",
   "metadata": {},
   "source": [
    "Functions"
   ]
  },
  {
   "cell_type": "code",
   "execution_count": 2,
   "metadata": {},
   "outputs": [],
   "source": [
    "#convert text files\n",
    "def txtconverter(numpy_array):\n",
    "    file = str(numpy_array).replace('[','')\n",
    "    file = file.replace(']','')\n",
    "    data = np.fromstring(file, sep=',')\n",
    "    return data\n",
    "\n",
    "#sorting data into counts and eV\n",
    "def find_counts(data):\n",
    "    counts = data[1:-1:2]\n",
    "    return counts\n",
    "\n",
    "def find_ev(data):\n",
    "    ev = data[0:-1:2]\n",
    "    return ev\n",
    "\n",
    "#plot the spectrum with HyperSpy\n",
    "def hyperspy_plot(ev, counts):\n",
    "    s = hs.signals.EELSSpectrum(counts)\n",
    "    s.axes_manager[0].scale = np.diff(ev).mean()\n",
    "    s.axes_manager[0].unit = 'eV'\n",
    "    s.axes_manager[0].offset = ev[0]\n",
    "    s.axes_manager[0].name = 'Energy'\n",
    "    return s\n",
    "\n",
    "#Normalize spectrum based on total electron counts\n",
    "def normalizeS(S):\n",
    "\tS_norm = S/np.sum(S)\n",
    "\treturn S_norm\n",
    "\n",
    "#ISRA algorithm\n",
    "def ISRA(iterations, PSF, Spectrum):\n",
    "    ISRA5 = np.copy(Spectrum)\n",
    "    ISRA1 = np.convolve(PSF, Spectrum, mode='same')\n",
    "    for i in range(iterations):\n",
    "        ISRA2 = np.convolve(PSF, ISRA5, mode='same')\n",
    "        ISRA3 = np.convolve(PSF, ISRA2, mode='same')\n",
    "        ISRA4 = np.divide(ISRA1, ISRA3)\n",
    "        ISRA5 = np.multiply(ISRA4, ISRA5)\n",
    "    return ISRA5\n",
    "\n",
    "#Richardson-Lucy algorithm (code from Edson Bellido)\n",
    "def RL(iterations, PSF, Spectrum):\n",
    "    RL4 = np.copy(Spectrum)\n",
    "    for i in range(iterations):\n",
    "        RL1 = np.convolve(PSF, RL4, mode='same')\n",
    "        RL2 = np.divide(Spectrum,RL1)\n",
    "        RL3 = np.convolve(PSF, RL2, mode='same')\n",
    "        RL4 = np.multiply(RL3, RL4)\n",
    "    return RL4\n",
    "\n",
    "#FWHM comparisons\n",
    "def FWHM_testing(sigma, gamma, hs_signal, hs_deconvolved, height):\n",
    "    \n",
    "    peaks1, _ = find_peaks(hs_signal, height=1)\n",
    "    results_half_signal = peak_widths(hs_signal, peaks1, rel_height=0.5)\n",
    "    \n",
    "    peaks2, _ = find_peaks(hs_deconvolved, height=height)\n",
    "    results_half_deconvolved = peak_widths(hs_deconvolved, peaks2, rel_height=0.5)\n",
    "    \n",
    "    FWHM_signal = 4 / 1000 * results_half_signal[0]\n",
    "    FWHM_deconvolved = 4 / 1000 * results_half_deconvolved[0]\n",
    "    \n",
    "    Lorentzian_FWHM = 2 * gamma\n",
    "    Gaussian_FWHM = 2.335 * sigma\n",
    "    \n",
    "    relative_error = abs((FWHM_deconvolved[0] - Lorentzian_FWHM)/Lorentzian_FWHM*100)\n",
    "    \n",
    "    print(\"FWHM of signal =\", FWHM_signal[0], \"eV\", \n",
    "          \"\\nFWHM of deconvolved =\", FWHM_deconvolved[0], \"eV\", \n",
    "          \"\\nFWHM of Lorentzian =\", Lorentzian_FWHM, \"eV\", \n",
    "          \"\\nRelative error =\",  math.trunc(relative_error), \"%\\n\")\n",
    "    \n",
    "#plotting the noise\n",
    "def noise(Spectrum, deconvolved, PSF):\n",
    "    noise = np.subtract(Spectrum, np.convolve(deconvolved, PSF, mode='same'))\n",
    "    return noise"
   ]
  },
  {
   "cell_type": "markdown",
   "metadata": {},
   "source": [
    "Load files"
   ]
  },
  {
   "cell_type": "code",
   "execution_count": 3,
   "metadata": {},
   "outputs": [],
   "source": [
    "#load file as numpy array\n",
    "Signal = np.loadtxt(\"D:\\Downloads\\Signal1.txt\",dtype=\"str\")\n",
    "PSF = np.loadtxt(\"D:\\Downloads\\PSF1.txt\", dtype='str')\n",
    "Real = np.loadtxt(\"D:\\Downloads\\Real1.txt\", dtype='str')\n",
    "\n",
    "#convert text file to usable numpy array\n",
    "signal = txtconverter(Signal)\n",
    "psf = txtconverter(PSF)\n",
    "real = txtconverter(Real)\n",
    "\n",
    "#separate data into counts and ev\n",
    "signal_counts = find_counts(signal)\n",
    "psf_counts = find_counts(psf)\n",
    "real_counts = find_counts(real)\n",
    "ev = find_ev(signal)"
   ]
  },
  {
   "cell_type": "markdown",
   "metadata": {},
   "source": [
    "Deconvolution"
   ]
  },
  {
   "cell_type": "code",
   "execution_count": 4,
   "metadata": {},
   "outputs": [],
   "source": [
    "ISRA_deconvolve = ISRA(10, psf_counts, signal_counts)\n",
    "s_ISRA = hyperspy_plot(ev, ISRA_deconvolve)\n",
    "\n",
    "RL_deconvolve = RL(10, psf_counts, signal_counts)\n",
    "s_RL = hyperspy_plot(ev, RL_deconvolve)"
   ]
  },
  {
   "cell_type": "markdown",
   "metadata": {},
   "source": [
    "Noise"
   ]
  },
  {
   "cell_type": "code",
   "execution_count": 5,
   "metadata": {},
   "outputs": [],
   "source": [
    "noise_ISRA = noise(signal_counts, ISRA_deconvolve, psf_counts)\n",
    "s_noise_ISRA = hyperspy_plot(ev, noise_ISRA)\n",
    "\n",
    "noise_RL = noise(signal_counts, RL_deconvolve, psf_counts)\n",
    "s_noise_RL = hyperspy_plot(ev, noise_RL)"
   ]
  },
  {
   "cell_type": "markdown",
   "metadata": {},
   "source": [
    "Signal from before deconvolution and the real signal for comparison"
   ]
  },
  {
   "cell_type": "code",
   "execution_count": 6,
   "metadata": {},
   "outputs": [],
   "source": [
    "s_signal = hyperspy_plot(ev, signal_counts)\n",
    "s_real = hyperspy_plot(ev, real_counts)"
   ]
  },
  {
   "cell_type": "markdown",
   "metadata": {},
   "source": [
    "### FWHM comparisons <br> \n",
    "ISRA results with signal damping therefore a very small height is needed in order for the find_peaks function to work. This can be judged by looking at the plot. RL does not have this issue, usually a height of around 1 will work."
   ]
  },
  {
   "cell_type": "code",
   "execution_count": 7,
   "metadata": {},
   "outputs": [
    {
     "name": "stdout",
     "output_type": "stream",
     "text": [
      "RL\n",
      "FWHM of signal = 0.32627560766739383 eV \n",
      "FWHM of deconvolved = 0.23908186476795754 eV \n",
      "FWHM of Lorentzian = 0.2 eV \n",
      "Relative error = 19 %\n",
      "\n",
      "ISRA\n",
      "FWHM of signal = 0.32627560766739383 eV \n",
      "FWHM of deconvolved = 0.2479356548216781 eV \n",
      "FWHM of Lorentzian = 0.2 eV \n",
      "Relative error = 23 %\n",
      "\n"
     ]
    }
   ],
   "source": [
    "print(\"RL\")\n",
    "FWHM_info_RL = FWHM_testing(0.1, 0.1, s_signal, s_RL, 1)\n",
    "print(\"ISRA\")\n",
    "FWHM_info_ISRA = FWHM_testing(0.1, 0.1, s_signal, s_ISRA, 0.001)"
   ]
  },
  {
   "cell_type": "markdown",
   "metadata": {},
   "source": [
    "Plot functions"
   ]
  },
  {
   "cell_type": "code",
   "execution_count": 8,
   "metadata": {},
   "outputs": [],
   "source": [
    "s_signal.plot()"
   ]
  },
  {
   "cell_type": "code",
   "execution_count": 9,
   "metadata": {},
   "outputs": [],
   "source": [
    "s_RL.plot()"
   ]
  },
  {
   "cell_type": "code",
   "execution_count": 10,
   "metadata": {},
   "outputs": [],
   "source": [
    "s_noise_RL.plot()"
   ]
  },
  {
   "cell_type": "code",
   "execution_count": 11,
   "metadata": {},
   "outputs": [],
   "source": [
    "s_ISRA.plot()"
   ]
  },
  {
   "cell_type": "code",
   "execution_count": 12,
   "metadata": {},
   "outputs": [],
   "source": [
    "s_noise_ISRA.plot()"
   ]
  },
  {
   "cell_type": "code",
   "execution_count": 13,
   "metadata": {},
   "outputs": [],
   "source": [
    "s_real.plot()"
   ]
  },
  {
   "cell_type": "code",
   "execution_count": null,
   "metadata": {},
   "outputs": [],
   "source": []
  }
 ],
 "metadata": {
  "kernelspec": {
   "display_name": "Python 3",
   "language": "python",
   "name": "python3"
  },
  "language_info": {
   "codemirror_mode": {
    "name": "ipython",
    "version": 3
   },
   "file_extension": ".py",
   "mimetype": "text/x-python",
   "name": "python",
   "nbconvert_exporter": "python",
   "pygments_lexer": "ipython3",
   "version": "3.8.3"
  }
 },
 "nbformat": 4,
 "nbformat_minor": 4
}
