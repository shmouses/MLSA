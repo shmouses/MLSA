{
 "cells": [
  {
   "cell_type": "code",
   "execution_count": null,
   "metadata": {},
   "outputs": [],
   "source": [
    "%matplotlib qt\n",
    "import numpy as np\n",
    "import hyperspy.api as hs\n",
    "from ncempy.io import dm\n",
    "import matplotlib.pyplot as plt\n",
    "from scipy.signal import peak_widths, find_peaks\n",
    "import math"
   ]
  },
  {
   "cell_type": "code",
   "execution_count": null,
   "metadata": {},
   "outputs": [],
   "source": [
    "#convert text files\n",
    "def txtconverter(numpy_array):\n",
    "    file = str(numpy_array).replace('[','')\n",
    "    file = file.replace(']','')\n",
    "    data = np.fromstring(file, sep=',')\n",
    "    return data\n",
    "\n",
    "#sorting data into counts and eV\n",
    "def find_counts(data):\n",
    "    counts = data[1:-1:2]\n",
    "    return counts\n",
    "\n",
    "def find_ev(data):\n",
    "    ev = data[0:-1:2]\n",
    "    return ev\n",
    "\n",
    "#plot the spectrum with HyperSpy\n",
    "def hyperspy_plot(ev, counts):\n",
    "    s = hs.signals.EELSSpectrum(counts)\n",
    "    s.axes_manager[0].scale = np.diff(ev).mean()\n",
    "    s.axes_manager[0].unit = 'eV'\n",
    "    s.axes_manager[0].offset = ev[0]\n",
    "    s.axes_manager[0].name = 'Energy'\n",
    "    return s\n",
    "\n",
    "#FWHM comparisons\n",
    "def FWHM_testing(alpha, gamma, hs_signal, hs_deconvolved, height):\n",
    "    \n",
    "    peaks1, _ = find_peaks(hs_signal, height=1)\n",
    "    results_half_signal = peak_widths(hs_signal, peaks1, rel_height=0.5)\n",
    "    \n",
    "    peaks2, _ = find_peaks(hs_deconvolved, height=height)\n",
    "    results_half_deconvolved = peak_widths(hs_deconvolved, peaks2, rel_height=0.5)\n",
    "    \n",
    "    FWHM_signal = 4 / 1000 * results_half_signal[0]\n",
    "    FWHM_deconvolved = 4 / 1000 * results_half_deconvolved[0]\n",
    "    \n",
    "    Lorentzian_FWHM = 2 * gamma\n",
    "    Gaussian_FWHM = 2 * alpha\n",
    "    \n",
    "    relative_error = abs((FWHM_deconvolved[0] - Lorentzian_FWHM)/Lorentzian_FWHM*100)\n",
    "    \n",
    "    print(\"FWHM of signal =\", FWHM_signal[0], \"eV\", \n",
    "          \"\\nFWHM of deconvolved =\", FWHM_deconvolved[0], \"eV\", \n",
    "          \"\\nFWHM of Lorentzian =\", Lorentzian_FWHM, \"eV\", \n",
    "          \"\\nRelative error =\",  math.trunc(relative_error), \"%\\n\")\n",
    "    \n",
    "#plotting the noise\n",
    "def noise(Spectrum, deconvolved, PSF):\n",
    "    noise = np.subtract(Spectrum, np.convolve(deconvolved, PSF, mode='same'))\n",
    "    return noise\n",
    "\n",
    "#Richardson-Lucy algorithm (code from Edson Bellido)\n",
    "def RL(iterations, PSF, Spectrum):\n",
    "    RL4 = np.copy(Spectrum)\n",
    "    for i in range(iterations):\n",
    "        RL1 = np.convolve(PSF, RL4, mode='same')\n",
    "        RL2 = np.divide(Spectrum,RL1)\n",
    "        RL3 = np.convolve(PSF, RL2, mode='same')\n",
    "        RL4 = np.multiply(RL3, RL4)\n",
    "    return RL4"
   ]
  },
  {
   "cell_type": "markdown",
   "metadata": {},
   "source": [
    "MEM algorithm from Meinel 1986 article, equation 71. Derived from the Gaussian noise process but states that it is similar to algorithms derived from the Poisson noise process. Also states that squaring in the convolution makes the noise propogation worse than the Poisson noise algorithms."
   ]
  },
  {
   "cell_type": "code",
   "execution_count": null,
   "metadata": {},
   "outputs": [],
   "source": [
    "def MEM(iterations, PSF, Spectrum):\n",
    "    MEM = np.copy(Spectrum)\n",
    "    for i in range(iterations):\n",
    "        MEM1 = np.convolve(PSF, MEM, mode='same')\n",
    "        MEM2 = np.divide(Spectrum, MEM1)\n",
    "        MEM3 = np.multiply(MEM2, MEM2)\n",
    "        MEM4 = np.convolve(PSF, MEM3, mode='same')\n",
    "        MEM5 = np.multiply(MEM4, MEM)\n",
    "        MEM = MEM5\n",
    "    return MEM"
   ]
  },
  {
   "cell_type": "code",
   "execution_count": null,
   "metadata": {},
   "outputs": [],
   "source": [
    "#load file as numpy array\n",
    "Signal = np.loadtxt(\"D:\\Downloads\\Signal1.txt\",dtype=\"str\")\n",
    "PSF = np.loadtxt(\"D:\\Downloads\\PSF1.txt\", dtype='str')\n",
    "Real = np.loadtxt(\"D:\\Downloads\\Real1.txt\", dtype='str')\n",
    "\n",
    "#convert text file to usable numpy array\n",
    "signal = txtconverter(Signal)\n",
    "psf = txtconverter(PSF)\n",
    "real = txtconverter(Real)\n",
    "\n",
    "#separate data into counts and ev\n",
    "signal_counts = find_counts(signal)\n",
    "psf_counts = find_counts(psf)\n",
    "real_counts = find_counts(real)\n",
    "ev = find_ev(signal)"
   ]
  },
  {
   "cell_type": "code",
   "execution_count": null,
   "metadata": {},
   "outputs": [],
   "source": [
    "MEM_deconvolve = MEM(150, psf_counts, signal_counts)\n",
    "s_MEM = hyperspy_plot(ev, MEM_deconvolve)\n",
    "\n",
    "RL_deconvolve = RL(150, psf_counts, signal_counts)\n",
    "s_RL = hyperspy_plot(ev, RL_deconvolve)\n",
    "\n",
    "s_signal = hyperspy_plot(ev, signal_counts)"
   ]
  },
  {
   "cell_type": "code",
   "execution_count": null,
   "metadata": {},
   "outputs": [],
   "source": [
    "print(\"MEM\")\n",
    "FWHM_MEM = FWHM_testing(0.1, 0.1, s_signal, s_MEM, 0.5)\n",
    "\n",
    "print(\"RL\")\n",
    "FWHM_RL = FWHM_testing(0.1, 0.1, s_signal, s_RL, 1)"
   ]
  },
  {
   "cell_type": "code",
   "execution_count": null,
   "metadata": {},
   "outputs": [],
   "source": [
    "s_MEM.plot()"
   ]
  },
  {
   "cell_type": "code",
   "execution_count": null,
   "metadata": {},
   "outputs": [],
   "source": [
    "s_RL.plot()"
   ]
  },
  {
   "cell_type": "code",
   "execution_count": null,
   "metadata": {},
   "outputs": [],
   "source": [
    "s_signal.plot()"
   ]
  },
  {
   "cell_type": "code",
   "execution_count": null,
   "metadata": {},
   "outputs": [],
   "source": [
    "noise_MEM = noise(signal_counts, MEM_deconvolve, psf_counts)\n",
    "s_noise_MEM = hyperspy_plot(ev, noise_MEM)\n",
    "\n",
    "noise_RL = noise(signal_counts, RL_deconvolve, psf_counts)\n",
    "s_noise_RL = hyperspy_plot(ev, noise_RL)"
   ]
  },
  {
   "cell_type": "code",
   "execution_count": null,
   "metadata": {},
   "outputs": [],
   "source": [
    "s_noise_MEM.plot()"
   ]
  },
  {
   "cell_type": "code",
   "execution_count": null,
   "metadata": {},
   "outputs": [],
   "source": [
    "s_noise_RL.plot()"
   ]
  },
  {
   "cell_type": "code",
   "execution_count": null,
   "metadata": {},
   "outputs": [],
   "source": []
  }
 ],
 "metadata": {
  "kernelspec": {
   "display_name": "Python 3",
   "language": "python",
   "name": "python3"
  },
  "language_info": {
   "codemirror_mode": {
    "name": "ipython",
    "version": 3
   },
   "file_extension": ".py",
   "mimetype": "text/x-python",
   "name": "python",
   "nbconvert_exporter": "python",
   "pygments_lexer": "ipython3",
   "version": "3.8.3"
  }
 },
 "nbformat": 4,
 "nbformat_minor": 4
}
