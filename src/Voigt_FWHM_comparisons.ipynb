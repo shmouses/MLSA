{
 "cells": [
  {
   "cell_type": "markdown",
   "metadata": {},
   "source": [
    "#### A program for comparing the difference between FWHM before and after deconvolution with three different algorithms for a range of generated Voigt functions"
   ]
  },
  {
   "cell_type": "code",
   "execution_count": 1,
   "metadata": {},
   "outputs": [
    {
     "name": "stderr",
     "output_type": "stream",
     "text": [
      "WARNING:hyperspy.api:The ipywidgets GUI elements are not available, probably because the hyperspy_gui_ipywidgets package is not installed.\n",
      "WARNING:hyperspy.api:The traitsui GUI elements are not available, probably because the hyperspy_gui_traitsui package is not installed.\n"
     ]
    }
   ],
   "source": [
    "%matplotlib qt\n",
    "\n",
    "from scipy.special import wofz\n",
    "import numpy as np\n",
    "import hyperspy.api as hs\n",
    "from ncempy.io import dm\n",
    "import matplotlib.pyplot as plt\n",
    "from scipy.signal import peak_widths, find_peaks\n",
    "import math\n",
    "from tabulate import tabulate"
   ]
  },
  {
   "cell_type": "markdown",
   "metadata": {},
   "source": [
    "Voigt Function Generator"
   ]
  },
  {
   "cell_type": "code",
   "execution_count": 2,
   "metadata": {},
   "outputs": [],
   "source": [
    "def G(x, alpha):\n",
    "    \"\"\" Return Gaussian line shape at x with HWHM alpha \"\"\"\n",
    "    return np.sqrt(np.log(2) / np.pi) / alpha\\\n",
    "                             * np.exp(-(x / alpha)**2 * np.log(2))\n",
    "\n",
    "def L(x, gamma):\n",
    "    \"\"\" Return Lorentzian line shape at x with HWHM gamma \"\"\"\n",
    "    return gamma / np.pi / (x**2 + gamma**2)\n",
    "\n",
    "def V(x, alpha, gamma):\n",
    "    \"\"\"\n",
    "    Return the Voigt line shape at x with Lorentzian component HWHM gamma\n",
    "    and Gaussian component HWHM alpha.\n",
    "\n",
    "    \"\"\"\n",
    "    sigma = alpha / np.sqrt(2 * np.log(2))\n",
    "\n",
    "    return np.real(wofz((x + 1j*gamma)/sigma/np.sqrt(2))) / sigma\\\n",
    "                                                           /np.sqrt(2*np.pi)"
   ]
  },
  {
   "cell_type": "markdown",
   "metadata": {},
   "source": [
    "Functions"
   ]
  },
  {
   "cell_type": "code",
   "execution_count": 3,
   "metadata": {},
   "outputs": [],
   "source": [
    "#plot the spectrum with HyperSpy\n",
    "def hyperspy_plot(ev, counts):\n",
    "    s = hs.signals.EELSSpectrum(counts)\n",
    "    s.axes_manager[0].scale = np.diff(ev).mean()\n",
    "    s.axes_manager[0].unit = 'eV'\n",
    "    s.axes_manager[0].offset = ev[0]\n",
    "    s.axes_manager[0].name = 'Energy'\n",
    "    return s\n",
    "\n",
    "#FWHM comparisons\n",
    "def FWHM_testing(alpha, gamma, hs_signal, hs_deconvolved, height):\n",
    "    \n",
    "    peaks1, _ = find_peaks(hs_signal, height=0.5)\n",
    "    results_half_signal = peak_widths(hs_signal, peaks1, rel_height=0.5)\n",
    "    \n",
    "    peaks2, _ = find_peaks(hs_deconvolved, height=height)\n",
    "    results_half_deconvolved = peak_widths(hs_deconvolved, peaks2, rel_height=0.5)\n",
    "    \n",
    "    FWHM_signal = 4 / 1000 * results_half_signal[0]\n",
    "    FWHM_deconvolved = 4 / 1000 * results_half_deconvolved[0]\n",
    "    \n",
    "    Lorentzian_FWHM = 2 * gamma\n",
    "    Gaussian_FWHM = 2 * alpha\n",
    "    \n",
    "    relative_error = abs((FWHM_deconvolved[0] - Lorentzian_FWHM)/Lorentzian_FWHM*100)\n",
    "    return math.trunc(relative_error)"
   ]
  },
  {
   "cell_type": "markdown",
   "metadata": {},
   "source": [
    "### Richardson Lucy"
   ]
  },
  {
   "cell_type": "code",
   "execution_count": 4,
   "metadata": {},
   "outputs": [],
   "source": [
    "#Richardson-Lucy algorithm (code from Edson Bellido)\n",
    "def RL(iterations, PSF, Spectrum):\n",
    "    RL4 = np.copy(Spectrum)\n",
    "    for i in range(iterations):\n",
    "        RL1 = np.convolve(PSF, RL4, mode='same')\n",
    "        RL2 = np.divide(Spectrum,RL1)\n",
    "        RL3 = np.convolve(PSF, RL2, mode='same')\n",
    "        RL4 = np.multiply(RL3, RL4)\n",
    "    return RL4"
   ]
  },
  {
   "cell_type": "code",
   "execution_count": 5,
   "metadata": {},
   "outputs": [],
   "source": [
    "def voigt_RL(iterations):\n",
    "    lst = [0.1, 0.2, 0.3, 0.4, 0.5]\n",
    "    x = np.linspace(-2,2,1000)\n",
    "    data = []\n",
    "    \n",
    "    for alpha in lst:\n",
    "        dt = [alpha]\n",
    "        gaussian = G(x, alpha)\n",
    "        for gamma in lst:\n",
    "            voigt = V(x, alpha, gamma)\n",
    "            s_signal = hyperspy_plot(x, voigt)\n",
    "            RL_deconvolve = RL(iterations, gaussian, voigt)\n",
    "            s_RL = hyperspy_plot(x, RL_deconvolve)\n",
    "            error = FWHM_testing(alpha, gamma, s_signal, s_RL, 0.5)\n",
    "            dt.append(error)\n",
    "        data.append(dt)\n",
    "    print(tabulate(data, headers=['alpha\\gamma', '0.1', '0.2', '0.3', '0.4', '0.5'], tablefmt=\"plain\"))"
   ]
  },
  {
   "cell_type": "code",
   "execution_count": 6,
   "metadata": {},
   "outputs": [
    {
     "name": "stdout",
     "output_type": "stream",
     "text": [
      "  alpha\\gamma    0.1    0.2    0.3    0.4    0.5\n",
      "          0.1      2      0      0      0      0\n",
      "          0.2     22      2      1      0      4\n",
      "          0.3     50     14     11     12     93\n",
      "          0.4     62      3     19     34     90\n",
      "          0.5    112     73     51     82     86\n"
     ]
    }
   ],
   "source": [
    "voigt_RL(1000)"
   ]
  },
  {
   "cell_type": "markdown",
   "metadata": {},
   "source": [
    "### MEM by Meinel"
   ]
  },
  {
   "cell_type": "code",
   "execution_count": 7,
   "metadata": {},
   "outputs": [],
   "source": [
    "def Meinel(iterations, PSF, Spectrum):\n",
    "    MEM = np.copy(Spectrum)\n",
    "    for i in range(iterations):\n",
    "        MEM1 = np.convolve(PSF, MEM, mode='same')\n",
    "        MEM2 = np.divide(Spectrum, MEM1)\n",
    "        MEM3 = np.multiply(MEM2, MEM2)\n",
    "        MEM4 = np.convolve(PSF, MEM3, mode='same')\n",
    "        MEM5 = np.multiply(MEM4, MEM)\n",
    "        MEM = MEM5\n",
    "    return MEM"
   ]
  },
  {
   "cell_type": "code",
   "execution_count": 8,
   "metadata": {},
   "outputs": [],
   "source": [
    "def voigt_Meinel(iterations):\n",
    "    lst = [0.1, 0.2, 0.3, 0.4, 0.5]\n",
    "    x = np.linspace(-2,2,1000)\n",
    "    data = []\n",
    "    \n",
    "    for alpha in lst:\n",
    "        dt = [alpha]\n",
    "        gaussian = G(x, alpha)\n",
    "        for gamma in lst:\n",
    "            voigt = V(x, alpha, gamma)\n",
    "            s_signal = hyperspy_plot(x, voigt)\n",
    "            MEM_deconvolve = Meinel(iterations, gaussian, voigt)\n",
    "            s_MEM = hyperspy_plot(x, MEM_deconvolve)\n",
    "            error = FWHM_testing(alpha, gamma, s_signal, s_MEM, 0.5)\n",
    "            dt.append(error)\n",
    "        data.append(dt)\n",
    "    print(tabulate(data, headers=['alpha\\gamma', '0.1', '0.2', '0.3', '0.4', '0.5'], tablefmt=\"plain\"))"
   ]
  },
  {
   "cell_type": "code",
   "execution_count": 9,
   "metadata": {},
   "outputs": [
    {
     "name": "stdout",
     "output_type": "stream",
     "text": [
      "  alpha\\gamma    0.1    0.2    0.3    0.4    0.5\n",
      "          0.1      1      0      0      0     98\n",
      "          0.2     20      3      1      1     96\n",
      "          0.3     38      0     12     11     94\n",
      "          0.4     52      2     25     39     91\n",
      "          0.5    131    100     67     84     88\n"
     ]
    }
   ],
   "source": [
    "voigt_Meinel(1000)"
   ]
  },
  {
   "cell_type": "markdown",
   "metadata": {},
   "source": [
    "### MEM by Carasso"
   ]
  },
  {
   "cell_type": "code",
   "execution_count": 10,
   "metadata": {},
   "outputs": [],
   "source": [
    "def Carasso(iterations, rho, PSF, Spectrum):\n",
    "    C = rho\n",
    "    N = np.sum(Spectrum)\n",
    "    \n",
    "    MEM = Spectrum\n",
    "    for i in range(iterations):\n",
    "        A1 = np.convolve(PSF, MEM, mode='same')\n",
    "        A2 = np.divide(Spectrum, A1)\n",
    "        A3 = np.convolve(PSF, A2, mode='same')\n",
    "        A4 = np.subtract(np.multiply(rho, A3), rho)\n",
    "        A5 = np.add(np.subtract(A4, np.log10(MEM)), C)\n",
    "        A6 = N * (np.sum(np.multiply(MEM, A5)))**(-1)\n",
    "        \n",
    "        MEM1 = np.convolve(PSF, MEM, mode='same')\n",
    "        MEM2 = np.divide(Spectrum, MEM1)\n",
    "        MEM3 = np.convolve(PSF, MEM2, mode='same')\n",
    "        MEM4 = np.subtract(np.multiply(rho, MEM3), rho)\n",
    "        MEM5 = np.add(np.subtract(MEM4, np.log10(MEM)), C)\n",
    "        MEM6 = np.multiply(np.multiply(MEM, MEM5), A6)\n",
    "        MEM = MEM6\n",
    "    return MEM"
   ]
  },
  {
   "cell_type": "code",
   "execution_count": 12,
   "metadata": {},
   "outputs": [],
   "source": [
    "def voigt_Carasso(iterations, rho):\n",
    "    lst = [0.1, 0.2, 0.3, 0.4, 0.5]\n",
    "    x = np.linspace(-2,2,1000)\n",
    "    data = []\n",
    "    \n",
    "    for alpha in lst:\n",
    "        dt = [alpha]\n",
    "        gaussian = G(x, alpha)\n",
    "        for gamma in lst:\n",
    "            voigt = V(x, alpha, gamma)\n",
    "            s_signal = hyperspy_plot(x, voigt)\n",
    "            MEM_deconvolve = Carasso(iterations, rho, gaussian, voigt)\n",
    "            s_MEM = hyperspy_plot(x, MEM_deconvolve)\n",
    "            error = FWHM_testing(alpha, gamma, s_signal, s_MEM, 0.5)\n",
    "            dt.append(error)\n",
    "        data.append(dt)\n",
    "    print(tabulate(data, headers=['alpha\\gamma', '0.1', '0.2', '0.3', '0.4', '0.5'], tablefmt=\"plain\"))"
   ]
  },
  {
   "cell_type": "code",
   "execution_count": 14,
   "metadata": {},
   "outputs": [
    {
     "name": "stdout",
     "output_type": "stream",
     "text": [
      "  alpha\\gamma    0.1    0.2    0.3    0.4    0.5\n",
      "          0.1      2      0      0      0      0\n",
      "          0.2     24      2      0      0      3\n",
      "          0.3     53     16     11     10      4\n",
      "          0.4     69      9     13     27     89\n",
      "          0.5    115     69     50     26     85\n"
     ]
    }
   ],
   "source": [
    "voigt_Carasso(1000, 1000)"
   ]
  },
  {
   "cell_type": "code",
   "execution_count": null,
   "metadata": {},
   "outputs": [],
   "source": []
  }
 ],
 "metadata": {
  "kernelspec": {
   "display_name": "Python 3",
   "language": "python",
   "name": "python3"
  },
  "language_info": {
   "codemirror_mode": {
    "name": "ipython",
    "version": 3
   },
   "file_extension": ".py",
   "mimetype": "text/x-python",
   "name": "python",
   "nbconvert_exporter": "python",
   "pygments_lexer": "ipython3",
   "version": "3.8.3"
  }
 },
 "nbformat": 4,
 "nbformat_minor": 4
}
